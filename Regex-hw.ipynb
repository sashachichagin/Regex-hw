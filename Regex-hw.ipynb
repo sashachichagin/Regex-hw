{
 "cells": [
  {
   "cell_type": "markdown",
   "metadata": {},
   "source": [
    "# Домашнее задание к лекции \"Регулярные выражения\"\n",
    "Для зачета необходимо выполнить 4 задания.  \n",
    "Для зачета с отличием – все."
   ]
  },
  {
   "cell_type": "markdown",
   "metadata": {},
   "source": [
    "## Задание 1"
   ]
  },
  {
   "cell_type": "markdown",
   "metadata": {},
   "source": [
    "Напишите функцию, которая принимает на вход строку и проверяет является ли она валидным транспортным номером. Если да, то функция должна возвращать отдельно номер и регион."
   ]
  },
  {
   "cell_type": "code",
   "execution_count": 1,
   "metadata": {},
   "outputs": [],
   "source": [
    "import re"
   ]
  },
  {
   "cell_type": "code",
   "execution_count": 2,
   "metadata": {},
   "outputs": [],
   "source": [
    "# Проверка работает корректно для регистрационных знаков легковых, грузовых автомобилей и автобусов.\n",
    "# Функция воспринимает номера типа: 'А226СА 163' и 'АО347 163'\n",
    "# Номера состоят из цифр и букв. Причём используются только 12 букв кириллицы — А, В, Е, К, М, Н, О, Р, С, Т, У и Х.\n",
    "# Номера регионов могут быть любымии от 1 до 99,102,113,116,121,122,123,124,125,126,134,136,138,142,147,150,152,154,156,159,161,163,164,173,174,177,178,186,190,193,196,197,198,199,702,716,750,761,763,774,777,790,797,799\n",
    "\n",
    "license_plate = 'А226СА 777'\n",
    "# license_plate = 'АО347 63'"
   ]
  },
  {
   "cell_type": "code",
   "execution_count": 3,
   "metadata": {},
   "outputs": [],
   "source": [
    "def number_recognition(license_plate):\n",
    "    result = re.findall(r'(^\\s?[АВЕКМНОРСТУХ]\\s?\\d{3}\\s?[АВЕКМНОРСТУХ]{2}|[АВЕКМНОРСТУХ]{2}\\s?\\d{3})\\s?([1-9][0-9]|102|113|116|12[1-6]|134|136|138|142|147|150|152|154|156|159|161|163|164|173|174|177|178|186|190|193|196|197|198|199|702|716|750|761|763|774|777|790|797|799)\\b$', license_plate)\n",
    "    if result == []:\n",
    "        print('Не валидный транспортный номер')\n",
    "    else:\n",
    "        print('Валидный транспортный номер')\n",
    "        print(f'Номер: {result[0][0]}')\n",
    "        print(f'Регион: {result[0][1]}')      "
   ]
  },
  {
   "cell_type": "code",
   "execution_count": 4,
   "metadata": {},
   "outputs": [
    {
     "name": "stdout",
     "output_type": "stream",
     "text": [
      "Валидный транспортный номер\n",
      "Номер: А226СА\n",
      "Регион: 777\n"
     ]
    }
   ],
   "source": [
    "number_recognition(license_plate)"
   ]
  },
  {
   "cell_type": "markdown",
   "metadata": {},
   "source": [
    "## Задание 2"
   ]
  },
  {
   "cell_type": "markdown",
   "metadata": {},
   "source": [
    "Напишите функцию, которая проверяет e-mail адрес на валидность по стандарту RFC822: http://www.w3.org/Protocols/rfc822/. Для этого постарайтесь написать (в крайнем случае найти) самый полный шаблон для проверки e-mail адресов через регулярное выражение. Разберитесь и напишите примеры, какие ваш шаблон может не охватить."
   ]
  },
  {
   "cell_type": "code",
   "execution_count": 5,
   "metadata": {},
   "outputs": [],
   "source": [
    "mails =['first.last@iana.org', '12345@iana.org', '\"first\\\"last\"@iana.org', '\"first@last\"@iana.org', '\"first\\last\"@iana.org', 'first.last@[12.34.56.78]', 'first.last@[IPv6:::12.34.56.78]', 'first.last@[IPv6:1111:2222:3333::4444:12.34.56.78]', 'first.last@[IPv6:1111:2222:3333:4444:5555:6666:12.34.56.78]', 'first.last@[IPv6:::1111:2222:3333:4444:5555:6666]', 'first.last@[IPv6:1111:2222:3333::4444:5555:6666]', 'first.last@x23456789012345678901234567890123456789012345678901234567890123.iana.org', 'first.last@3com.com', 'first.last@123.iana.org', '\"first\\last\"@iana.org', 'first.last@[IPv6:1111:2222:3333::4444:5555:6666:7777]', 'first.last@example.123', 'first.last@com', '\"Abc\\@def\"@iana.org', '\"Fred\\ Bloggs\"@iana.org', '\"Joe.\\Blow\"@iana.org', '\"Abc@def\"@iana.org', '\"Fred Bloggs\"@iana.org', 'user+mailbox@iana.org', 'customer/department=shipping@iana.org', '$A12345@iana.org', '!def!xyz%abc@iana.org', '_somename@iana.org', 'dclo@us.ibm.com', 'peter.piper@iana.org', '\"Doug \\\"Ace\\\" L.\"@iana.org', 'test@iana.org', 'TEST@iana.org', '1234567890@iana.org', 'test+test@iana.org', 'test-test@iana.org', 't*est@iana.org', '+1~1+@iana.org', '{_test_}@iana.org', '\"[[ test ]]\"@iana.org', 'test.test@iana.org', '\"test.test\"@iana.org', 'test.\"test\"@iana.org', '\"test@test\"@iana.org', 'test@123.123.123.x123', 'test@123.123.123.123', 'test@example.iana.org', 'test@example.example.iana.org', '\"test\\test\"@iana.org', 'test@example', '\"test\\blah\"@iana.org', '\"test\\blah\"@iana.org', '\"test\\\"blah\"@iana.org', 'customer/department@iana.org', '_Yosemite.Sam@iana.org', '~@iana.org', '\"Austin@Powers\"@iana.org', 'Ima.Fool@iana.org', '\"Ima.Fool\"@iana.org', '\"Ima Fool\"@iana.org', '\"first\".\"last\"@iana.org', '\"first\".middle.\"last\"@iana.org', '\"first\".last@iana.org', 'first.\"last\"@iana.org', '\"first\".\"middle\".\"last\"@iana.org', '\"first.middle\".\"last\"@iana.org', '\"first.middle.last\"@iana.org', '\"first..last\"@iana.org', '\"first\\\\\\\"last\"@iana.org', 'first.\"mid\\dle\".\"last\"@iana.org', '\"test blah\"@iana.org', '(foo)cal(bar)@(baz)iamcal.com(quux)', 'cal@iamcal(woo).(yay)com', 'cal(woo(yay)hoopla)@iamcal.com', 'cal(foo\\@bar)@iamcal.com', 'cal(foo\\)bar)@iamcal.com', 'first().last@iana.org', 'pete(his account)@silly.test(his host)', 'jdoe@machine(comment). example', '1234 @ local(blah) .machine .example', 'first(abc.def).last@iana.org', 'first(a\"bc.def).last@iana.org', 'first.(\")middle.last(\")@iana.org', 'first(abc\\(def)@iana.org', 'first.last@x(1234567890123456789012345678901234567890123456789012345678901234567890).com', 'a(a(b(c)d(e(f))g)h(i)j)@iana.org', 'name.lastname@domain.com', 'a@b', 'a@bar.com', 'aaa@[123.123.123.123]', 'a@bar', 'a-b@bar.com', '+@b.c', '+@b.com', 'a@b.co-foo.uk', '\"hello my name is\"@stutter.com', '\"Test \\\"Fail\\\" Ing\"@iana.org', 'valid@about.museum', 'shaitan@my-domain.thisisminekthx', 'foobar@192.168.0.1', '\"Joe\\Blow\"@iana.org', 'HM2Kinsists@(that comments are allowed)this.is.ok', 'user%uucp!path@berkeley.edu', 'first.last @iana.org', 'first.last@[IPv6:::a2:a3:a4:b1:b2:b3:b4]', 'first.last@[IPv6:a1:a2:a3:a4:b1:b2:b3::]', 'first.last@[IPv6:::]', 'first.last@[IPv6:::b4]', 'first.last@[IPv6:::b3:b4]', 'first.last@[IPv6:a1::b4]', 'first.last@[IPv6:a1::]', 'first.last@[IPv6:a1:a2::]', 'first.last@[IPv6:0123:4567:89ab:cdef::]', 'first.last@[IPv6:0123:4567:89ab:CDEF::]', 'first.last@[IPv6:::a3:a4:b1:ffff:11.22.33.44]', 'first.last@[IPv6:::a2:a3:a4:b1:ffff:11.22.33.44]', 'first.last@[IPv6:a1:a2:a3:a4::11.22.33.44]', 'first.last@[IPv6:a1:a2:a3:a4:b1::11.22.33.44]', 'first.last@[IPv6:a1::11.22.33.44]', 'first.last@[IPv6:a1:a2::11.22.33.44]', 'first.last@[IPv6:0123:4567:89ab:cdef::11.22.33.44]', 'first.last@[IPv6:0123:4567:89ab:CDEF::11.22.33.44]', 'first.last@[IPv6:a1::b2:11.22.33.44]', 'test@test.com', 'test@xn--example.com', 'test@example.com', 'first.last@sub.do,com', 'first\\@last@iana.org', '123456789012345678901234567890123456789012345678901234567890@12345678901234567890123456789012345678901234 [...]', 'first.last', '12345678901234567890123456789012345678901234567890123456789012345@iana.org', '.first.last@iana.org', 'first.last.@iana.org', 'first..last@iana.org', '\"first\"last\"@iana.org', '\"\"\"@iana.org', '\"\\\"@iana.org', '\"\"@iana.org', 'first\\@last@iana.org', 'first.last@', 'x@x23456789.x23456789.x23456789.x23456789.x23456789.x23456789.x23456789.x23456789.x23456789.x23456789.x23 [...]', 'first.last@[.12.34.56.78]', 'first.last@[12.34.56.789]', 'first.last@[::12.34.56.78]', 'first.last@[IPv5:::12.34.56.78]', 'first.last@[IPv6:1111:2222:3333:4444:5555:12.34.56.78]', 'first.last@[IPv6:1111:2222:3333:4444:5555:6666:7777:12.34.56.78]', 'first.last@[IPv6:1111:2222:3333:4444:5555:6666:7777]', 'first.last@[IPv6:1111:2222:3333:4444:5555:6666:7777:8888:9999]', 'first.last@[IPv6:1111:2222::3333::4444:5555:6666]', 'first.last@[IPv6:1111:2222:333x::4444:5555]', 'first.last@[IPv6:1111:2222:33333::4444:5555]', 'first.last@-xample.com', 'first.last@exampl-.com', 'first.last@x234567890123456789012345678901234567890123456789012345678901234.iana.org', 'abc\\@def@iana.org', 'abc\\@iana.org', 'Doug\\ \\\"Ace\\\"\\ Lovell@iana.org', 'abc@def@iana.org', 'abc\\@def@iana.org', 'abc\\@iana.org', '@iana.org', 'doug@', '\"qu@iana.org', 'ote\"@iana.org', '.dot@iana.org', 'dot.@iana.org', 'two..dot@iana.org', '\"Doug \"Ace\" L.\"@iana.org', 'Doug\\ \\\"Ace\\\"\\ L\\.@iana.org', 'hello world@iana.org', 'gatsby@f.sc.ot.t.f.i.tzg.era.l.d.', 'test.iana.org', 'test.@iana.org', 'test..test@iana.org', '.test@iana.org', 'test@test@iana.org', 'test@@iana.org', '-- test --@iana.org', '[test]@iana.org', '\"test\"test\"@iana.org', '()[]\\;:,><@iana.org', 'test@.', 'test@example.', 'test@.org', 'test@1234567890123456789012345678901234567890123456789012345678901234567890123456789012345678901234567890 [...]', 'test@[123.123.123.123', 'test@123.123.123.123]', 'NotAnEmail', '@NotAnEmail', '\"test\"blah\"@iana.org', '.wooly@iana.org', 'wo..oly@iana.org', 'pootietang.@iana.org', '.@iana.org', 'Ima Fool@iana.org', 'phil.h\\@\\@ck@haacked.com', 'foo@[\\1.2.3.4]', 'first.\"\".last@iana.org', 'first\\last@iana.org', 'Abc\\@def@iana.org', 'Fred\\ Bloggs@iana.org', 'Joe.\\Blow@iana.org', 'first.last@[IPv6:1111:2222:3333:4444:5555:6666:12.34.567.89]', '{^c\\@**Dog^}@cartoon.com', '\"foo\"(yay)@(hoopla)[1.2.3.4]', 'cal(foo(bar)@iamcal.com', 'cal(foo)bar)@iamcal.com', 'cal(foo\\)@iamcal.com', 'first(12345678901234567890123456789012345678901234567890)last@(123456789012345678901234567890123456789012 [...]', 'first(middle)last@iana.org', 'first(abc(\"def\".ghi).mno)middle(abc(\"def\".ghi).mno).last@(abc(\"def\".ghi).mno)example(abc(\"def\".ghi).mno). [...]', 'a(a(b(c)d(e(f))g)(h(i)j)@iana.org', '.@', '@bar.com', '@@bar.com', 'aaa.com', 'aaa@.com', 'aaa@.123', 'aaa@[123.123.123.123]a', 'aaa@[123.123.123.333]', 'a@bar.com.', 'a@-b.com', 'a@b-.com', '-@..com', '-@a..com', 'invalid@about.museum-', 'test@...........com', '\"Unicode NULL \"@char.com', 'Unicode NULL @char.com', 'first.last@[IPv6::]', 'first.last@[IPv6::::]', 'first.last@[IPv6::b4]', 'first.last@[IPv6::::b4]', 'first.last@[IPv6::b3:b4]', 'first.last@[IPv6::::b3:b4]', 'first.last@[IPv6:a1:::b4]', 'first.last@[IPv6:a1:]', 'first.last@[IPv6:a1:::]', 'first.last@[IPv6:a1:a2:]', 'first.last@[IPv6:a1:a2:::]', 'first.last@[IPv6::11.22.33.44]', 'first.last@[IPv6::::11.22.33.44]', 'first.last@[IPv6:a1:11.22.33.44]', 'first.last@[IPv6:a1:::11.22.33.44]', 'first.last@[IPv6:a1:a2:::11.22.33.44]', 'first.last@[IPv6:0123:4567:89ab:cdef::11.22.33.xx]', 'first.last@[IPv6:0123:4567:89ab:CDEFF::11.22.33.44]', 'first.last@[IPv6:a1::a4:b1::b4:11.22.33.44]', 'first.last@[IPv6:a1::11.22.33]', 'first.last@[IPv6:a1::11.22.33.44.55]', 'first.last@[IPv6:a1::b211.22.33.44]', 'first.last@[IPv6:a1::b2::11.22.33.44]', 'first.last@[IPv6:a1::b3:]', 'first.last@[IPv6::a2::b4]', 'first.last@[IPv6:a1:a2:a3:a4:b1:b2:b3:]', 'first.last@[IPv6::a2:a3:a4:b1:b2:b3:b4]']"
   ]
  },
  {
   "cell_type": "code",
   "execution_count": 6,
   "metadata": {},
   "outputs": [],
   "source": [
    "def mail_check(mails):\n",
    "    \n",
    "    pattern_mail = re.compile(r'^[-a-z0-9~!$%^&*_=+}{\\'?]+(\\.[-a-z0-9~!$%^&*_=+}{\\'?]+)*@([a-z0-9_][-a-z0-9_]*(\\.[-a-z0-9_]+)*\\.(aero|arpa|biz|com|coop|edu|gov|info|int|mil|museum|name|net|org|pro|travel|mobi|[a-z][a-z])|([0-9]{1,3}\\.[0-9]{1,3}\\.[0-9]{1,3}\\.[0-9]{1,3}))(:[0-9]{1,5})?$')\n",
    "    \n",
    "    for mail in mails:\n",
    "        if pattern_mail.findall(mail):\n",
    "            print('Валидный: ', mail)\n",
    "        else:\n",
    "            print('Не валидный: ', mail)"
   ]
  },
  {
   "cell_type": "code",
   "execution_count": 7,
   "metadata": {},
   "outputs": [
    {
     "name": "stdout",
     "output_type": "stream",
     "text": [
      "Валидный:  first.last@iana.org\n",
      "Валидный:  12345@iana.org\n",
      "Не валидный:  \"first\"last\"@iana.org\n",
      "Не валидный:  \"first@last\"@iana.org\n",
      "Не валидный:  \"first\\last\"@iana.org\n",
      "Не валидный:  first.last@[12.34.56.78]\n",
      "Не валидный:  first.last@[IPv6:::12.34.56.78]\n",
      "Не валидный:  first.last@[IPv6:1111:2222:3333::4444:12.34.56.78]\n",
      "Не валидный:  first.last@[IPv6:1111:2222:3333:4444:5555:6666:12.34.56.78]\n",
      "Не валидный:  first.last@[IPv6:::1111:2222:3333:4444:5555:6666]\n",
      "Не валидный:  first.last@[IPv6:1111:2222:3333::4444:5555:6666]\n",
      "Валидный:  first.last@x23456789012345678901234567890123456789012345678901234567890123.iana.org\n",
      "Валидный:  first.last@3com.com\n",
      "Валидный:  first.last@123.iana.org\n",
      "Не валидный:  \"first\\last\"@iana.org\n",
      "Не валидный:  first.last@[IPv6:1111:2222:3333::4444:5555:6666:7777]\n",
      "Не валидный:  first.last@example.123\n",
      "Не валидный:  first.last@com\n",
      "Не валидный:  \"Abc\\@def\"@iana.org\n",
      "Не валидный:  \"Fred\\ Bloggs\"@iana.org\n",
      "Не валидный:  \"Joe.\\Blow\"@iana.org\n",
      "Не валидный:  \"Abc@def\"@iana.org\n",
      "Не валидный:  \"Fred Bloggs\"@iana.org\n",
      "Валидный:  user+mailbox@iana.org\n",
      "Не валидный:  customer/department=shipping@iana.org\n",
      "Не валидный:  $A12345@iana.org\n",
      "Валидный:  !def!xyz%abc@iana.org\n",
      "Валидный:  _somename@iana.org\n",
      "Валидный:  dclo@us.ibm.com\n",
      "Валидный:  peter.piper@iana.org\n",
      "Не валидный:  \"Doug \"Ace\" L.\"@iana.org\n",
      "Валидный:  test@iana.org\n",
      "Не валидный:  TEST@iana.org\n",
      "Валидный:  1234567890@iana.org\n",
      "Валидный:  test+test@iana.org\n",
      "Валидный:  test-test@iana.org\n",
      "Валидный:  t*est@iana.org\n",
      "Валидный:  +1~1+@iana.org\n",
      "Валидный:  {_test_}@iana.org\n",
      "Не валидный:  \"[[ test ]]\"@iana.org\n",
      "Валидный:  test.test@iana.org\n",
      "Не валидный:  \"test.test\"@iana.org\n",
      "Не валидный:  test.\"test\"@iana.org\n",
      "Не валидный:  \"test@test\"@iana.org\n",
      "Не валидный:  test@123.123.123.x123\n",
      "Валидный:  test@123.123.123.123\n",
      "Валидный:  test@example.iana.org\n",
      "Валидный:  test@example.example.iana.org\n",
      "Не валидный:  \"test\test\"@iana.org\n",
      "Не валидный:  test@example\n",
      "Не валидный:  \"test\blah\"@iana.org\n",
      "Не валидный:  \"test\blah\"@iana.org\n",
      "Не валидный:  \"test\"blah\"@iana.org\n",
      "Не валидный:  customer/department@iana.org\n",
      "Не валидный:  _Yosemite.Sam@iana.org\n",
      "Валидный:  ~@iana.org\n",
      "Не валидный:  \"Austin@Powers\"@iana.org\n",
      "Не валидный:  Ima.Fool@iana.org\n",
      "Не валидный:  \"Ima.Fool\"@iana.org\n",
      "Не валидный:  \"Ima Fool\"@iana.org\n",
      "Не валидный:  \"first\".\"last\"@iana.org\n",
      "Не валидный:  \"first\".middle.\"last\"@iana.org\n",
      "Не валидный:  \"first\".last@iana.org\n",
      "Не валидный:  first.\"last\"@iana.org\n",
      "Не валидный:  \"first\".\"middle\".\"last\"@iana.org\n",
      "Не валидный:  \"first.middle\".\"last\"@iana.org\n",
      "Не валидный:  \"first.middle.last\"@iana.org\n",
      "Не валидный:  \"first..last\"@iana.org\n",
      "Не валидный:  \"first\\\"last\"@iana.org\n",
      "Не валидный:  first.\"mid\\dle\".\"last\"@iana.org\n",
      "Не валидный:  \"test blah\"@iana.org\n",
      "Не валидный:  (foo)cal(bar)@(baz)iamcal.com(quux)\n",
      "Не валидный:  cal@iamcal(woo).(yay)com\n",
      "Не валидный:  cal(woo(yay)hoopla)@iamcal.com\n",
      "Не валидный:  cal(foo\\@bar)@iamcal.com\n",
      "Не валидный:  cal(foo\\)bar)@iamcal.com\n",
      "Не валидный:  first().last@iana.org\n",
      "Не валидный:  pete(his account)@silly.test(his host)\n",
      "Не валидный:  jdoe@machine(comment). example\n",
      "Не валидный:  1234 @ local(blah) .machine .example\n",
      "Не валидный:  first(abc.def).last@iana.org\n",
      "Не валидный:  first(a\"bc.def).last@iana.org\n",
      "Не валидный:  first.(\")middle.last(\")@iana.org\n",
      "Не валидный:  first(abc\\(def)@iana.org\n",
      "Не валидный:  first.last@x(1234567890123456789012345678901234567890123456789012345678901234567890).com\n",
      "Не валидный:  a(a(b(c)d(e(f))g)h(i)j)@iana.org\n",
      "Валидный:  name.lastname@domain.com\n",
      "Не валидный:  a@b\n",
      "Валидный:  a@bar.com\n",
      "Не валидный:  aaa@[123.123.123.123]\n",
      "Не валидный:  a@bar\n",
      "Валидный:  a-b@bar.com\n",
      "Не валидный:  +@b.c\n",
      "Валидный:  +@b.com\n",
      "Валидный:  a@b.co-foo.uk\n",
      "Не валидный:  \"hello my name is\"@stutter.com\n",
      "Не валидный:  \"Test \"Fail\" Ing\"@iana.org\n",
      "Валидный:  valid@about.museum\n",
      "Не валидный:  shaitan@my-domain.thisisminekthx\n",
      "Валидный:  foobar@192.168.0.1\n",
      "Не валидный:  \"Joe\\Blow\"@iana.org\n",
      "Не валидный:  HM2Kinsists@(that comments are allowed)this.is.ok\n",
      "Валидный:  user%uucp!path@berkeley.edu\n",
      "Не валидный:  first.last @iana.org\n",
      "Не валидный:  first.last@[IPv6:::a2:a3:a4:b1:b2:b3:b4]\n",
      "Не валидный:  first.last@[IPv6:a1:a2:a3:a4:b1:b2:b3::]\n",
      "Не валидный:  first.last@[IPv6:::]\n",
      "Не валидный:  first.last@[IPv6:::b4]\n",
      "Не валидный:  first.last@[IPv6:::b3:b4]\n",
      "Не валидный:  first.last@[IPv6:a1::b4]\n",
      "Не валидный:  first.last@[IPv6:a1::]\n",
      "Не валидный:  first.last@[IPv6:a1:a2::]\n",
      "Не валидный:  first.last@[IPv6:0123:4567:89ab:cdef::]\n",
      "Не валидный:  first.last@[IPv6:0123:4567:89ab:CDEF::]\n",
      "Не валидный:  first.last@[IPv6:::a3:a4:b1:ffff:11.22.33.44]\n",
      "Не валидный:  first.last@[IPv6:::a2:a3:a4:b1:ffff:11.22.33.44]\n",
      "Не валидный:  first.last@[IPv6:a1:a2:a3:a4::11.22.33.44]\n",
      "Не валидный:  first.last@[IPv6:a1:a2:a3:a4:b1::11.22.33.44]\n",
      "Не валидный:  first.last@[IPv6:a1::11.22.33.44]\n",
      "Не валидный:  first.last@[IPv6:a1:a2::11.22.33.44]\n",
      "Не валидный:  first.last@[IPv6:0123:4567:89ab:cdef::11.22.33.44]\n",
      "Не валидный:  first.last@[IPv6:0123:4567:89ab:CDEF::11.22.33.44]\n",
      "Не валидный:  first.last@[IPv6:a1::b2:11.22.33.44]\n",
      "Валидный:  test@test.com\n",
      "Валидный:  test@xn--example.com\n",
      "Валидный:  test@example.com\n",
      "Не валидный:  first.last@sub.do,com\n",
      "Не валидный:  first\\@last@iana.org\n",
      "Не валидный:  123456789012345678901234567890123456789012345678901234567890@12345678901234567890123456789012345678901234 [...]\n",
      "Не валидный:  first.last\n",
      "Валидный:  12345678901234567890123456789012345678901234567890123456789012345@iana.org\n",
      "Не валидный:  .first.last@iana.org\n",
      "Не валидный:  first.last.@iana.org\n",
      "Не валидный:  first..last@iana.org\n",
      "Не валидный:  \"first\"last\"@iana.org\n",
      "Не валидный:  \"\"\"@iana.org\n",
      "Не валидный:  \"\"@iana.org\n",
      "Не валидный:  \"\"@iana.org\n",
      "Не валидный:  first\\@last@iana.org\n",
      "Не валидный:  first.last@\n",
      "Не валидный:  x@x23456789.x23456789.x23456789.x23456789.x23456789.x23456789.x23456789.x23456789.x23456789.x23456789.x23 [...]\n",
      "Не валидный:  first.last@[.12.34.56.78]\n",
      "Не валидный:  first.last@[12.34.56.789]\n",
      "Не валидный:  first.last@[::12.34.56.78]\n",
      "Не валидный:  first.last@[IPv5:::12.34.56.78]\n",
      "Не валидный:  first.last@[IPv6:1111:2222:3333:4444:5555:12.34.56.78]\n",
      "Не валидный:  first.last@[IPv6:1111:2222:3333:4444:5555:6666:7777:12.34.56.78]\n",
      "Не валидный:  first.last@[IPv6:1111:2222:3333:4444:5555:6666:7777]\n",
      "Не валидный:  first.last@[IPv6:1111:2222:3333:4444:5555:6666:7777:8888:9999]\n",
      "Не валидный:  first.last@[IPv6:1111:2222::3333::4444:5555:6666]\n",
      "Не валидный:  first.last@[IPv6:1111:2222:333x::4444:5555]\n",
      "Не валидный:  first.last@[IPv6:1111:2222:33333::4444:5555]\n",
      "Не валидный:  first.last@-xample.com\n",
      "Валидный:  first.last@exampl-.com\n",
      "Валидный:  first.last@x234567890123456789012345678901234567890123456789012345678901234.iana.org\n",
      "Не валидный:  abc\\@def@iana.org\n",
      "Не валидный:  abc\\@iana.org\n",
      "Не валидный:  Doug\\ \"Ace\"\\ Lovell@iana.org\n",
      "Не валидный:  abc@def@iana.org\n",
      "Не валидный:  abc\\@def@iana.org\n",
      "Не валидный:  abc\\@iana.org\n",
      "Не валидный:  @iana.org\n",
      "Не валидный:  doug@\n",
      "Не валидный:  \"qu@iana.org\n",
      "Не валидный:  ote\"@iana.org\n",
      "Не валидный:  .dot@iana.org\n",
      "Не валидный:  dot.@iana.org\n",
      "Не валидный:  two..dot@iana.org\n",
      "Не валидный:  \"Doug \"Ace\" L.\"@iana.org\n",
      "Не валидный:  Doug\\ \"Ace\"\\ L\\.@iana.org\n",
      "Не валидный:  hello world@iana.org\n",
      "Не валидный:  gatsby@f.sc.ot.t.f.i.tzg.era.l.d.\n",
      "Не валидный:  test.iana.org\n",
      "Не валидный:  test.@iana.org\n",
      "Не валидный:  test..test@iana.org\n",
      "Не валидный:  .test@iana.org\n",
      "Не валидный:  test@test@iana.org\n",
      "Не валидный:  test@@iana.org\n",
      "Не валидный:  -- test --@iana.org\n",
      "Не валидный:  [test]@iana.org\n",
      "Не валидный:  \"test\"test\"@iana.org\n",
      "Не валидный:  ()[]\\;:,><@iana.org\n",
      "Не валидный:  test@.\n",
      "Не валидный:  test@example.\n",
      "Не валидный:  test@.org\n",
      "Не валидный:  test@1234567890123456789012345678901234567890123456789012345678901234567890123456789012345678901234567890 [...]\n",
      "Не валидный:  test@[123.123.123.123\n",
      "Не валидный:  test@123.123.123.123]\n",
      "Не валидный:  NotAnEmail\n",
      "Не валидный:  @NotAnEmail\n",
      "Не валидный:  \"test\"blah\"@iana.org\n",
      "Не валидный:  .wooly@iana.org\n",
      "Не валидный:  wo..oly@iana.org\n",
      "Не валидный:  pootietang.@iana.org\n",
      "Не валидный:  .@iana.org\n",
      "Не валидный:  Ima Fool@iana.org\n",
      "Не валидный:  phil.h\\@\\@ck@haacked.com\n",
      "Не валидный:  foo@[\u0001.2.3.4]\n",
      "Не валидный:  first.\"\".last@iana.org\n",
      "Не валидный:  first\\last@iana.org\n",
      "Не валидный:  Abc\\@def@iana.org\n",
      "Не валидный:  Fred\\ Bloggs@iana.org\n",
      "Не валидный:  Joe.\\Blow@iana.org\n",
      "Не валидный:  first.last@[IPv6:1111:2222:3333:4444:5555:6666:12.34.567.89]\n",
      "Не валидный:  {^c\\@**Dog^}@cartoon.com\n",
      "Не валидный:  \"foo\"(yay)@(hoopla)[1.2.3.4]\n",
      "Не валидный:  cal(foo(bar)@iamcal.com\n",
      "Не валидный:  cal(foo)bar)@iamcal.com\n",
      "Не валидный:  cal(foo\\)@iamcal.com\n",
      "Не валидный:  first(12345678901234567890123456789012345678901234567890)last@(123456789012345678901234567890123456789012 [...]\n",
      "Не валидный:  first(middle)last@iana.org\n",
      "Не валидный:  first(abc(\"def\".ghi).mno)middle(abc(\"def\".ghi).mno).last@(abc(\"def\".ghi).mno)example(abc(\"def\".ghi).mno). [...]\n",
      "Не валидный:  a(a(b(c)d(e(f))g)(h(i)j)@iana.org\n",
      "Не валидный:  .@\n",
      "Не валидный:  @bar.com\n",
      "Не валидный:  @@bar.com\n",
      "Не валидный:  aaa.com\n",
      "Не валидный:  aaa@.com\n",
      "Не валидный:  aaa@.123\n",
      "Не валидный:  aaa@[123.123.123.123]a\n",
      "Не валидный:  aaa@[123.123.123.333]\n",
      "Не валидный:  a@bar.com.\n",
      "Не валидный:  a@-b.com\n",
      "Валидный:  a@b-.com\n",
      "Не валидный:  -@..com\n",
      "Не валидный:  -@a..com\n",
      "Не валидный:  invalid@about.museum-\n",
      "Не валидный:  test@...........com\n",
      "Не валидный:  \"Unicode NULL \"@char.com\n",
      "Не валидный:  Unicode NULL @char.com\n",
      "Не валидный:  first.last@[IPv6::]\n",
      "Не валидный:  first.last@[IPv6::::]\n",
      "Не валидный:  first.last@[IPv6::b4]\n",
      "Не валидный:  first.last@[IPv6::::b4]\n",
      "Не валидный:  first.last@[IPv6::b3:b4]\n",
      "Не валидный:  first.last@[IPv6::::b3:b4]\n",
      "Не валидный:  first.last@[IPv6:a1:::b4]\n",
      "Не валидный:  first.last@[IPv6:a1:]\n",
      "Не валидный:  first.last@[IPv6:a1:::]\n",
      "Не валидный:  first.last@[IPv6:a1:a2:]\n",
      "Не валидный:  first.last@[IPv6:a1:a2:::]\n",
      "Не валидный:  first.last@[IPv6::11.22.33.44]\n",
      "Не валидный:  first.last@[IPv6::::11.22.33.44]\n",
      "Не валидный:  first.last@[IPv6:a1:11.22.33.44]\n",
      "Не валидный:  first.last@[IPv6:a1:::11.22.33.44]\n",
      "Не валидный:  first.last@[IPv6:a1:a2:::11.22.33.44]\n",
      "Не валидный:  first.last@[IPv6:0123:4567:89ab:cdef::11.22.33.xx]\n",
      "Не валидный:  first.last@[IPv6:0123:4567:89ab:CDEFF::11.22.33.44]\n",
      "Не валидный:  first.last@[IPv6:a1::a4:b1::b4:11.22.33.44]\n",
      "Не валидный:  first.last@[IPv6:a1::11.22.33]\n",
      "Не валидный:  first.last@[IPv6:a1::11.22.33.44.55]\n",
      "Не валидный:  first.last@[IPv6:a1::b211.22.33.44]\n",
      "Не валидный:  first.last@[IPv6:a1::b2::11.22.33.44]\n",
      "Не валидный:  first.last@[IPv6:a1::b3:]\n",
      "Не валидный:  first.last@[IPv6::a2::b4]\n",
      "Не валидный:  first.last@[IPv6:a1:a2:a3:a4:b1:b2:b3:]\n",
      "Не валидный:  first.last@[IPv6::a2:a3:a4:b1:b2:b3:b4]\n"
     ]
    }
   ],
   "source": [
    "mail_check(mails)"
   ]
  },
  {
   "cell_type": "markdown",
   "metadata": {},
   "source": [
    "## Задание 3\n",
    "Напишите функцию, которая будет удалять все последовательные повторы слов из заданной строки."
   ]
  },
  {
   "cell_type": "code",
   "execution_count": 8,
   "metadata": {},
   "outputs": [],
   "source": [
    "def delete_repeats(string):\n",
    "    string_result = re.sub(r'\\b(\\w+)(\\s+\\1)+\\b', r'\\1', string, flags=re.I)\n",
    "   \n",
    "    return string_result"
   ]
  },
  {
   "cell_type": "code",
   "execution_count": 9,
   "metadata": {},
   "outputs": [
    {
     "data": {
      "text/plain": [
       "'Я изучаю язык Python в Нетологии. На вебинарах разбитаются достаточно простые примеры, а вот над домашними заданиями приходится корпеть.'"
      ]
     },
     "execution_count": 9,
     "metadata": {},
     "output_type": "execute_result"
    }
   ],
   "source": [
    "delete_repeats('Я изучаю язык Python python в Нетологии. \\\n",
    "На вебинарах разбитаются достаточно простые      простые примеры, а вот над НАД домашними заданиями приходится корпеть.')"
   ]
  },
  {
   "cell_type": "markdown",
   "metadata": {},
   "source": [
    "## Задание 4\n",
    "Напишите функцию, которая будет проверять номер сотового телефона на валидность, если он валиден, то переводить его в формат:   \n",
    "+7(xxx)-xxx-xx-xx  \n",
    "Постарайтесь предусмотреть как можно больше адекватных форматов изначального ввода номера.\n",
    "Примеры правильных и неправильных форматов:\n",
    "- +7 955 555-55-55;\n",
    "- 955555555;\n",
    "- 8(955)555-55-55;\n",
    "- +7 955 555 55 55;\n",
    "- 7(955) 555-55-55;\n",
    "- +7 955+555+55+55."
   ]
  },
  {
   "cell_type": "code",
   "execution_count": 10,
   "metadata": {},
   "outputs": [],
   "source": [
    "nums = ['+7 955 577-55-00', '918556755', '8(955)555-55-55', '+7 846 155 11 11', '7(955) 555-55-55',\\\n",
    "      '7(955) 555-55-55', '+7 955+555+55+55', '(932) 2220055']"
   ]
  },
  {
   "cell_type": "code",
   "execution_count": 11,
   "metadata": {},
   "outputs": [],
   "source": [
    "def nums_check(nums):\n",
    "\n",
    "    pattern = re.compile(r'^([78]|\\+7|'')\\s*\\(?\\-?s*(\\d{3})\\s*\\)?\\-?\\s*(\\d{3})\\s*\\-?\\s*(\\d{2})\\s*\\-?\\s*(\\d{2})$')\n",
    "\n",
    "    print('\\tСтатусы номеров\\n')\n",
    "    for num in nums:\n",
    "        if pattern.findall(num):\n",
    "            print('Валидный:', num, ' ;новый формат:', pattern.sub(r'+7(\\2)-\\3-\\4-\\5',num))\n",
    "        else:\n",
    "            print('Не валидный:', num)"
   ]
  },
  {
   "cell_type": "code",
   "execution_count": 12,
   "metadata": {},
   "outputs": [
    {
     "name": "stdout",
     "output_type": "stream",
     "text": [
      "\tСтатусы номеров\n",
      "\n",
      "Валидный: +7 955 577-55-00  ;новый формат: +7(955)-577-55-00\n",
      "Не валидный: 918556755\n",
      "Валидный: 8(955)555-55-55  ;новый формат: +7(955)-555-55-55\n",
      "Валидный: +7 846 155 11 11  ;новый формат: +7(846)-155-11-11\n",
      "Валидный: 7(955) 555-55-55  ;новый формат: +7(955)-555-55-55\n",
      "Валидный: 7(955) 555-55-55  ;новый формат: +7(955)-555-55-55\n",
      "Не валидный: +7 955+555+55+55\n",
      "Валидный: (932) 2220055  ;новый формат: +7(932)-222-00-55\n"
     ]
    }
   ],
   "source": [
    "nums_check(nums)"
   ]
  }
 ],
 "metadata": {
  "kernelspec": {
   "display_name": "Python 3",
   "language": "python",
   "name": "python3"
  },
  "language_info": {
   "codemirror_mode": {
    "name": "ipython",
    "version": 3
   },
   "file_extension": ".py",
   "mimetype": "text/x-python",
   "name": "python",
   "nbconvert_exporter": "python",
   "pygments_lexer": "ipython3",
   "version": "3.7.4"
  }
 },
 "nbformat": 4,
 "nbformat_minor": 2
}
